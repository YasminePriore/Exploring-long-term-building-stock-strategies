{
 "cells": [
  {
   "cell_type": "code",
   "execution_count": 1,
   "metadata": {},
   "outputs": [],
   "source": [
    "import pandas as pd\n",
    "import numpy as np"
   ]
  },
  {
   "cell_type": "code",
   "execution_count": 2,
   "metadata": {},
   "outputs": [],
   "source": [
    "#Input data\n",
    "S_OLD_18=392945800 #surface of existing buildings in 2018 (residential)\n",
    "Dwe_avg=6 #average dwellings built per 1000 inhabitant\n",
    "S_avg_dwe=99 #average surface per dwelling\n",
    "Population_18=8525611 #Swiss population in 2018\n",
    "Population_50=10440600 #Swiss population in 2050\n",
    "\n",
    "EM_OP_OLD=28 #average CO2 emissions operation of existing buildings (2018) in kgCO2eq/m2.year\n",
    "\n",
    "years = [] #temporal frame of study 2018 - 2050\n",
    "for i in range (2018, 2051, 1):\n",
    "    years.append(i)"
   ]
  },
  {
   "cell_type": "code",
   "execution_count": 3,
   "metadata": {},
   "outputs": [],
   "source": [
    "#Variable parameters\n",
    "\n",
    "Goal_y = [2040, 2045, 2050]\n",
    "\n",
    "REN_rate = [0.01, 0.03, 0.05, 0.1] #possible renovation rates\n",
    "    \n",
    "Op_NEW=[0,1,2,3,4,5,6,7,8,9,10] #in kgCO2/m2.year - new buildings\n",
    "Op_REN=[0,1,2,3,4,5,6,7,8,9,10] #in kgCO2/m2.year - renovations\n",
    "\n",
    "#possible embodied emissions in kgCO2eq/m2 \n",
    "EM_EMB_REN=[] #for renovation works\n",
    "EM_EMB_NEW=[] #for new buildings\n",
    "\n",
    "for i in range (-300, 601, 60):\n",
    "    EM_EMB_REN.append(i)\n",
    "    \n",
    "for i in range (-540, 1200, 120):\n",
    "    EM_EMB_NEW.append(i)\n"
   ]
  },
  {
   "cell_type": "code",
   "execution_count": 18,
   "metadata": {},
   "outputs": [],
   "source": [
    "#Dynamic evolution of variable parameters - linear till goal year,\n",
    "#These funtions return values for specific year and variable chosen\n",
    "\n",
    "def Ren_rate (year, REN_rate, Goal_y): #dynamic evolution of renovation rate till 2050\n",
    "    return (((REN_rate-0.01)/(Goal_y-2018))*(year - 2018))+0.01 #1% is the initial renovation rate in 2018\n",
    "\n",
    "\n",
    "def EM_OP_REN (year, Op_REN, Goal_y):\n",
    "    return (((Op_REN-5.8)/(Goal_y-2018))*(year - 2018))+5.8 #5kgCO2eq/m2.year is considerent the current value of emissions after renovation\n",
    "    \n",
    "def EM_OP_NEW (year, Op_NEW, Goal_y):\n",
    "    return (((Op_NEW-3.5)/(Goal_y-2018))*(year - 2018))+3.5   #2kgCO2eq/m2.year is considerent the current value of emissions of new buildings\n",
    "\n",
    "def EMB_REN (year, EM_EMB_REN, Goal_y):\n",
    "    return (((EM_EMB_REN-440)/(Goal_y-2018))*(year - 2018))+440 #440kgCO2eq/m2 - current level of emissions for renovation\n",
    "    \n",
    "def EMB_NEW (year, EM_EMB_NEW, Goal_y):\n",
    "    return (((EM_EMB_NEW-696)/(Goal_y-2018))*(year - 2018))+696 #696kgCO2eq/m2 - current level of emissions for new\n"
   ]
  },
  {
   "cell_type": "code",
   "execution_count": 19,
   "metadata": {},
   "outputs": [],
   "source": [
    "#Definition of evolution of surfaces\n",
    "\n",
    "#Renovated surfaces consider the initial stock (surfaces of 2018 in input) and multiply it by the renovation rate of the corresponding year (considerin evolution of renovation rate over time)\n",
    "#Renovated surfaces are here cumulated over the years (as the operational emissions are on all surfaces every year)\n",
    "#As renovated surfaces refer to the stock of 2018 - once all surfaces are renovated - no more renovations are taking place in this time frame (buildings built after 2018 will not undergo major renovation works before 2050)\n",
    "def Surf_REN_cumul (year, S_OLD_18, Ren_rate, REN_rate, Goal_y):\n",
    "    TRY=[]\n",
    "    for i in range (years[0], year+1, 1):\n",
    "        Surfaces_renovated=(S_OLD_18*Ren_rate(i, REN_rate, Goal_y))\n",
    "        TRY.append(Surfaces_renovated)\n",
    "    Cumulative=sum(TRY)\n",
    "    if Cumulative < S_OLD_18:\n",
    "            return Cumulative\n",
    "    else:\n",
    "            return S_OLD_18\n",
    "\n",
    "#in order to calculate the embodied emissions of renovations only surfaces afected in that year must be considered:        \n",
    "def Surf_REN_year (year, Surf_REN_cumul,S_OLD_18, Ren_rate, REN_rate, Goal_y):\n",
    "    return (Surf_REN_cumul(year, S_OLD_18, Ren_rate, REN_rate, Goal_y))- (Surf_REN_cumul(year-1,S_OLD_18, Ren_rate, REN_rate, Goal_y))\n",
    "\n",
    "#old surfaces decrease according to the renovated surfaces\n",
    "def Surf_OLD (year, S_OLD_18, Surf_REN_cumul, Ren_rate, REN_rate, Goal_y):\n",
    "    return S_OLD_18-(Surf_REN_cumul(year, S_OLD_18, Ren_rate, REN_rate, Goal_y))\n",
    "\n",
    "#New surfaces are calculated as a proportion to the population increase\n",
    "def Population (year, Population_18, Population_50):\n",
    "    return ((Population_50-Population_18)/(2050-2018))*(year-2018)+Population_18\n",
    "\n",
    "#current number and size of dwellings per capita are used\n",
    "def Surf_NEW (year, Population, S_avg_dwe, Dwe_avg):\n",
    "    return (Population/1000)*(Dwe_avg*S_avg_dwe)\n",
    "\n",
    "#similar to renovated surfaces, new surfaces are cumulated over the years in order to account for total operational emissions\n",
    "def Surf_NEW_cumul (year, Population, S_avg_dwe, Dwe_avg):\n",
    "    NEW=[]\n",
    "    for i in range (years[0], year+1, 1):\n",
    "        New_surfaces= (Population (i, Population_18, Population_50)/1000)*(Dwe_avg*S_avg_dwe)\n",
    "        NEW.append(New_surfaces)\n",
    "    Cumulative_NEW=sum(NEW)\n",
    "    return Cumulative_NEW\n"
   ]
  },
  {
   "cell_type": "code",
   "execution_count": 25,
   "metadata": {},
   "outputs": [],
   "source": [
    "#Definition of emissions\n",
    "def Emissions_OP (year, Surf_OLD, Surf_REN_cumul, Surf_NEW_cumul, EM_OP_REN, EM_OP_NEW):\n",
    "    return (Surf_OLD*(EM_OP_OLD/1000000000))+((Surf_REN_cumul*(EM_OP_REN/1000000000)))+ (Surf_NEW_cumul*(EM_OP_NEW/1000000000))\n",
    "\n",
    "def Emissions_EMB (year, Surf_REN_year, Surf_NEW, EMB_REN, EMB_NEW):\n",
    "    return (Surf_REN_year*(EMB_REN/1000000000))+(Surf_NEW*(EMB_NEW/1000000000))"
   ]
  },
  {
   "cell_type": "code",
   "execution_count": 28,
   "metadata": {},
   "outputs": [
    {
     "data": {
      "text/plain": [
       "205.68285818509554"
      ]
     },
     "execution_count": 28,
     "metadata": {},
     "output_type": "execute_result"
    }
   ],
   "source": [
    "#cumulative operational emissions\n",
    "\n",
    "def Cumulative_OP(Surf_OLD, Surf_REN_cumul, Surf_NEW_cumul, EM_OP_REN, EM_OP_NEW, S_OLD_18, Ren_rate, REN_rate, Population, S_avg_dwe, Dwe_avg, Op_REN, Op_NEW, Goal_y):\n",
    "    Cumul = []\n",
    "    for i in range (years[0], years[-1]+1, 1):\n",
    "        Cumul.append(Emissions_OP(i, Surf_OLD(i, S_OLD_18, Surf_REN_cumul, Ren_rate, REN_rate, Goal_y), Surf_REN_cumul(i, S_OLD_18, Ren_rate, REN_rate, Goal_y), Surf_NEW_cumul(i, Population, S_avg_dwe, Dwe_avg), EM_OP_REN(i, Op_REN, Goal_y), EM_OP_NEW(i, Op_NEW, Goal_y)))\n",
    "    return sum(Cumul)"
   ]
  },
  {
   "cell_type": "code",
   "execution_count": 29,
   "metadata": {},
   "outputs": [
    {
     "data": {
      "text/plain": [
       "239.55022836733315"
      ]
     },
     "execution_count": 29,
     "metadata": {},
     "output_type": "execute_result"
    }
   ],
   "source": [
    "#cumulative embodied emissions\n",
    "\n",
    "\n",
    "def Cumulative_EMB(Surf_REN_year, Surf_NEW, EMB_REN, EMB_NEW, Surf_REN_cumul, S_OLD_18, Ren_rate, REN_rate, Population, S_avg_dwe, Dwe_avg, EM_EMB_REN, EM_EMB_NEW, Population_18, Population_50, Goal_y):\n",
    "    Cumuli = []\n",
    "    for i in range (years[0], years[-1]+1, 1):\n",
    "        Cumuli.append(Emissions_EMB(i, Surf_REN_year(i, Surf_REN_cumul,S_OLD_18, Ren_rate, REN_rate, Goal_y), Surf_NEW(i, Population(i, Population_18, Population_50), S_avg_dwe, Dwe_avg), EMB_REN(i, EM_EMB_REN, Goal_y), EMB_NEW(i, EM_EMB_NEW, Goal_y)))\n",
    "    return sum(Cumuli)"
   ]
  },
  {
   "cell_type": "code",
   "execution_count": 30,
   "metadata": {},
   "outputs": [
    {
     "data": {
      "text/plain": [
       "583.9132425638394"
      ]
     },
     "execution_count": 30,
     "metadata": {},
     "output_type": "execute_result"
    }
   ],
   "source": [
    "#Cumulative total emissions operational + embodied\n",
    "\n",
    "def Cumulative_TOT(Surf_OLD, Surf_REN_year, Surf_NEW, Surf_NEW_cumul, EMB_REN, EMB_NEW, EM_OP_REN, EM_OP_NEW, Surf_REN_cumul, S_OLD_18, Ren_rate, REN_rate, Population, S_avg_dwe, Dwe_avg, EM_EMB_REN, EM_EMB_NEW, Op_REN, Op_NEW, Population_18, Population_50, Goal_y):\n",
    "    Cumula = []\n",
    "    for i in range (years[0], years[-1]+1, 1):\n",
    "        Cumula.append(Emissions_EMB(i, Surf_REN_year(i, Surf_REN_cumul,S_OLD_18, Ren_rate, REN_rate, Goal_y), Surf_NEW(i, Population(i, Population_18, Population_50), S_avg_dwe, Dwe_avg), EMB_REN(i, EM_EMB_REN, Goal_y), EMB_NEW(i, EM_EMB_NEW, Goal_y))+Emissions_OP(i, Surf_OLD(i, S_OLD_18, Surf_REN_cumul, Ren_rate, REN_rate, Goal_y), Surf_REN_cumul(i, S_OLD_18, Ren_rate, REN_rate, Goal_y), Surf_NEW_cumul(i, Population, S_avg_dwe, Dwe_avg), EM_OP_REN(i, Op_REN, Goal_y), EM_OP_NEW(i, Op_NEW, Goal_y)))\n",
    "    return sum(Cumula)"
   ]
  },
  {
   "cell_type": "code",
   "execution_count": 31,
   "metadata": {},
   "outputs": [],
   "source": [
    "#create csv with all combinations to plot after\n",
    "result_cum_op=[]\n",
    "\n",
    "import csv\n",
    "\n",
    "with open('output.csv', 'w', newline='') as csvfile:\n",
    "    writer = csv.writer(csvfile)\n",
    "    writer.writerow(['Goal_y', 'OP_NEW', 'OP_REN', 'EM_REN', 'EM_NEW', 'REN_RATE', 'Operational_Emissions', 'Embodied_emissions', 'Total emissions'])\n",
    "    for a in range(len(Goal_y)):\n",
    "        result_cum_op.append([])          \n",
    "        for b in range(Op_NEW[0], Op_NEW[-1]+1, 1):\n",
    "            result_cum_op[a].append([])\n",
    "            for c in range(Op_REN[0], Op_REN[-1]+1, 1):\n",
    "                result_cum_op[a][b].append([])\n",
    "                for d in range(len(EM_EMB_REN)):\n",
    "                    result_cum_op[a][b][c].append([])\n",
    "                    for e in range(len(EM_EMB_NEW)):\n",
    "                        result_cum_op[a][b][c][d].append([])\n",
    "                        for f in range(len(REN_rate)):\n",
    "                            if f == 0:\n",
    "                                ff=0.01\n",
    "                            elif f == 1:\n",
    "                                ff=0.03\n",
    "                            elif f == 2:\n",
    "                                ff=0.05\n",
    "                            elif f == 3:\n",
    "                                ff=0.1\n",
    "                                \n",
    "                            aa = a*5+2040\n",
    "\n",
    "                            dd = d*60-300\n",
    "\n",
    "                            ee=e*120-540\n",
    "                        \n",
    "#Cumulative_OP(Surf_OLD, Surf_REN_cumul, Surf_NEW_cumul, EM_OP_OLD, EM_OP_REN, EM_OP_NEW, S_OLD_18, Ren_rate, REN_rate, Population, S_avg_dwe, Dwe_avg, Op_REN, Op_NEW)\n",
    "                        \n",
    "                            result_cum_op[a][b][c][d][e].append(Cumulative_OP(Surf_OLD, Surf_REN_cumul, Surf_NEW_cumul, EM_OP_REN, EM_OP_NEW, S_OLD_18, Ren_rate, ff, Population, S_avg_dwe, Dwe_avg, c, b, aa))\n",
    "                            for g in range (len(result_cum_op)):\n",
    "#Cumulative_EMB(Surf_REN_year, Surf_NEW, EMB_REN, EMB_NEW, Surf_REN_cumul, S_OLD_18, Ren_rate, REN_rate, Population, S_avg_dwe, Dwe_avg, EM_EMB_REN, EM_EMB_NEW, Population_18, Population_50)\n",
    "                                result_cum_op[a][b][c][d][e].append(Cumulative_EMB(Surf_REN_year, Surf_NEW, EMB_REN, EMB_NEW, Surf_REN_cumul, S_OLD_18, Ren_rate, ff, Population, S_avg_dwe, Dwe_avg, dd, ee, Population_18, Population_50, aa))\n",
    "                                for h in range (len(result_cum_op)):\n",
    "#Cumulative_TOT(Surf_OLD, Surf_REN_year, Surf_NEW, Surf_NEW_cumul, EMB_REN, EMB_NEW, EM_OP_OLD, EM_OP_REN, EM_OP_NEW, Surf_REN_cumul, S_OLD_18, Ren_rate, REN_rate, Population, S_avg_dwe, Dwe_avg, EM_EMB_REN, EM_EMB_NEW, Op_REN, Op_NEW, Population_18, Population_50)\n",
    "                                    result_cum_op[a][b][c][d][e].append(Cumulative_TOT(Surf_OLD, Surf_REN_year, Surf_NEW, Surf_NEW_cumul, EMB_REN, EMB_NEW, EM_OP_REN, EM_OP_NEW, Surf_REN_cumul, S_OLD_18, Ren_rate, ff, Population, S_avg_dwe, Dwe_avg, dd, ee, c, b, Population_18, Population_50, aa))\n",
    "                            writer.writerow([aa, b, c, dd, ee, ff, Cumulative_OP(Surf_OLD, Surf_REN_cumul, Surf_NEW_cumul, EM_OP_REN, EM_OP_NEW, S_OLD_18, Ren_rate, ff, Population, S_avg_dwe, Dwe_avg, c, b, aa), Cumulative_EMB(Surf_REN_year, Surf_NEW, EMB_REN, EMB_NEW, Surf_REN_cumul, S_OLD_18, Ren_rate, ff, Population, S_avg_dwe, Dwe_avg, dd, ee, Population_18, Population_50, aa), Cumulative_TOT(Surf_OLD, Surf_REN_year, Surf_NEW, Surf_NEW_cumul, EMB_REN, EMB_NEW, EM_OP_REN, EM_OP_NEW, Surf_REN_cumul, S_OLD_18, Ren_rate, ff, Population, S_avg_dwe, Dwe_avg, dd, ee, c, b, Population_18, Population_50, aa)])\n",
    "                        "
   ]
  },
  {
   "cell_type": "code",
   "execution_count": null,
   "metadata": {
    "collapsed": true
   },
   "outputs": [],
   "source": []
  }
 ],
 "metadata": {
  "kernelspec": {
   "display_name": "Python 3",
   "language": "python",
   "name": "python3"
  },
  "language_info": {
   "codemirror_mode": {
    "name": "ipython",
    "version": 3
   },
   "file_extension": ".py",
   "mimetype": "text/x-python",
   "name": "python",
   "nbconvert_exporter": "python",
   "pygments_lexer": "ipython3",
   "version": "3.7.6"
  }
 },
 "nbformat": 4,
 "nbformat_minor": 4
}
