{
 "cells": [
  {
   "cell_type": "code",
   "execution_count": 1,
   "metadata": {},
   "outputs": [],
   "source": [
    "import plotly.graph_objects as go\n",
    "\n",
    "import pandas as pd\n",
    "\n",
    "df = pd.read_csv('output.csv')\n",
    "\n",
    "fig = go.Figure(data=\n",
    "    go.Parcoords(\n",
    "        #fig.update_traces(name=<VALUE>, selector=dict(type='parcoords'))\n",
    "        name = \"NAME\",\n",
    "        visible = True,\n",
    "        line = dict(color = df['Total emissions'],\n",
    "                   colorscale = 'Rainbow', #Greys,YlGnBu,Greens,YlOrRd,Bluered,RdBu,Reds,Blues,Picnic,Rainbow,Portland,Jet,Hot,Blackbody,Earth,Electric,Viridis,Cividis.\n",
    "                   showscale = True,\n",
    "                   cmin = -150,\n",
    "                   cmax = 700),\n",
    "        #fig.update_traces(dimensions=list(...), selector=dict(type='parcoords'))\n",
    "        dimensions = list([\n",
    "                 #constraintrange = [100000,150000],\n",
    "            dict(range = [2040,2050],\n",
    "                 label = 'Goal year', values = df['Goal_y']),\n",
    "            dict(range = [0,10],\n",
    "                 label = 'Operation NEW', values = df['OP_NEW']),\n",
    "            dict(range = [0,10],\n",
    "                 #tickvals = [0,1,2,3],\n",
    "                 label = 'Operation REN', values = df['OP_REN']),\n",
    "            dict(range = [-300,600],\n",
    "                 #visible = True,\n",
    "                 label = 'Embodied REN', values = df['EM_REN']),\n",
    "            dict(range = [-540,1140],\n",
    "                 label = 'Embodied NEW', values = df['EM_NEW']),\n",
    "            dict(range = [0.01,0.1],\n",
    "                 label = 'Renovation rate', values = df['REN_RATE']),\n",
    "            dict(range = [-150,700],\n",
    "                 label = 'Emissions OP', values = df['Operational_Emissions']),\n",
    "            dict(range = [-150,700],\n",
    "                 label = 'Emissions EMB', values = df['Embodied_emissions']),\n",
    "            dict(range = [-150,700],\n",
    "                 label = 'Emissions TOT', values = df['Total emissions'])])\n",
    "    )\n",
    ")\n",
    "#fig.update_layout(width=800, height=500,margin=dict(l=60, r=60, t=60, b=40))\n",
    "\n",
    "\n",
    "\n",
    "#fig.show()"
   ]
  },
  {
   "cell_type": "code",
   "execution_count": 3,
   "metadata": {},
   "outputs": [],
   "source": [
    "import plotly.express as px\n",
    "\n",
    "fig.write_html(r'C:\\\"XXX\"\\Parallel coordinated.html')#Add path to folder (X)"
   ]
  },
  {
   "cell_type": "code",
   "execution_count": null,
   "metadata": {},
   "outputs": [],
   "source": []
  }
 ],
 "metadata": {
  "kernelspec": {
   "display_name": "Python 3",
   "language": "python",
   "name": "python3"
  },
  "language_info": {
   "codemirror_mode": {
    "name": "ipython",
    "version": 3
   },
   "file_extension": ".py",
   "mimetype": "text/x-python",
   "name": "python",
   "nbconvert_exporter": "python",
   "pygments_lexer": "ipython3",
   "version": "3.7.6"
  }
 },
 "nbformat": 4,
 "nbformat_minor": 4
}
